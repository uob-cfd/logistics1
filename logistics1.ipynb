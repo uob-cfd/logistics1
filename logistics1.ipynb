{
 "cells": [
  {
   "cell_type": "markdown",
   "id": "0b2ee7e2",
   "metadata": {},
   "source": [
    "## Logistic Regression Exercise\n",
    "\n",
    "In this exercise we will perform linear regression and logistic regression on the Titanic dataset. This dataset contains information about passenger characteristics, and whether each passenger survived the disaster."
   ]
  },
  {
   "cell_type": "code",
   "execution_count": null,
   "id": "0b988918",
   "metadata": {},
   "outputs": [],
   "source": [
    "# Don't change this cell; just run it.\n",
    "import numpy as np\n",
    "import pandas as pd\n",
    "# Safe settings for Pandas.\n",
    "pd.set_option('mode.chained_assignment', 'raise')\n",
    "%matplotlib inline\n",
    "import matplotlib.pyplot as plt\n",
    "# Make the plots look more fancy.\n",
    "plt.style.use('fivethirtyeight')\n",
    "# Optimization function\n",
    "from scipy.optimize import minimize"
   ]
  },
  {
   "cell_type": "markdown",
   "id": "8227be66",
   "metadata": {},
   "source": [
    "First let's import the data."
   ]
  },
  {
   "cell_type": "code",
   "execution_count": null,
   "id": "04e0c7c9",
   "metadata": {},
   "outputs": [],
   "source": [
    "titanic = pd.read_csv('titanic_clean.csv')\n",
    "titanic.head()"
   ]
  },
  {
   "cell_type": "markdown",
   "id": "b2a72d8d",
   "metadata": {},
   "source": [
    "## Linear Regression with one predictor\n",
    "\n",
    "We are going to predict `survived` from `fare`. Were passengers who paid a\n",
    "higher fare more likely to survive?\n",
    "\n",
    "First, let's see how well a linear regression model does at predicting\n",
    "`survived` from `fare`."
   ]
  },
  {
   "cell_type": "markdown",
   "id": "bc8d396c",
   "metadata": {},
   "source": [
    "### Dummify\n",
    "\n",
    "Create a dummy variable for `survived` and add it to the `titanic` dataframe.\n",
    "We will treat `survived == 'yes'` as the event of interest, so give this the\n",
    "label `1` (the integer 1). Label `survived == 'no'` with a integer value of\n",
    "`0`."
   ]
  },
  {
   "cell_type": "code",
   "execution_count": null,
   "id": "ffbdbbaa",
   "metadata": {},
   "outputs": [],
   "source": [
    "titanic['survived_dummy'] = ...\n",
    "# Show the first few rows of the dataframe.\n",
    "titanic.head()"
   ]
  },
  {
   "cell_type": "markdown",
   "id": "6e02a070",
   "metadata": {},
   "source": [
    "### Column convenience\n",
    "\n",
    "Store the data from the `fare` and `survived_dummy` columns as separate\n",
    "variables.  Don't forget your [safe-handling of Pandas](https://uob-ds.github.io/cfd2021/wild-pandas/safe_pandas)."
   ]
  },
  {
   "cell_type": "code",
   "execution_count": null,
   "id": "97e1d6a6",
   "metadata": {},
   "outputs": [],
   "source": [
    "fare = ...\n",
    "# Show the first few values.\n",
    "fare"
   ]
  },
  {
   "cell_type": "code",
   "execution_count": null,
   "id": "e800c565",
   "metadata": {
    "lines_to_next_cell": 2
   },
   "outputs": [],
   "source": [
    "survived_dummy = ...\n",
    "# Show the first few values.\n",
    "survived_dummy.head()"
   ]
  },
  {
   "cell_type": "markdown",
   "id": "9b4f25a4",
   "metadata": {},
   "source": [
    "### Plotting\n",
    "\n",
    "To get a graphical idea of how `fare` relates to `survived`, let's plot them\n",
    "together.\n",
    "\n",
    "Create a scatterplot with `fare` on the x axis and `survived_dummy` on the y\n",
    "axis:"
   ]
  },
  {
   "cell_type": "code",
   "execution_count": null,
   "id": "e99adf40",
   "metadata": {},
   "outputs": [],
   "source": [
    "..."
   ]
  },
  {
   "cell_type": "markdown",
   "id": "5992cf67",
   "metadata": {},
   "source": [
    "*Question 5:*\n",
    "\n",
    "Do you think it looks like there is a relationship between these two variables?\n",
    "How would you describe the relationship? (Rememeber that `survived_dummy == 1`\n",
    "means the passenger survived, `survived_dummy == 0` means they did not). "
   ]
  },
  {
   "cell_type": "markdown",
   "id": "8c921ebc",
   "metadata": {},
   "source": [
    "*Edit this cell with your answer ...*\n"
   ]
  },
  {
   "cell_type": "markdown",
   "id": "f697df6c",
   "metadata": {},
   "source": [
    "### Minimizing sum of squares\n",
    "\n",
    "The first step is to do a basic standard simple linear regression.\n",
    "\n",
    "The linear regression will use a straight line (intercept and slope) to predict\n",
    "the y values (`survived_dummy`) using the x values (`fare`).\n",
    "\n",
    "We start by grabbing a version of the `ss_any_line` function from the\n",
    "[using minimize page](../mean-slopes/using_minimize)."
   ]
  },
  {
   "cell_type": "code",
   "execution_count": null,
   "id": "5f06f8fd",
   "metadata": {},
   "outputs": [],
   "source": [
    "def ss_any_line(c_s, x_values, y_values):\n",
    "    \"\"\" Cost function for sum of squares given (intercept, slope), x, y\n",
    "\n",
    "    Parameters\n",
    "    ----------\n",
    "    c_s : sequence\n",
    "        List or array with two elements.  The first is the intercept to calculate for, the second is the slope.\n",
    "    x_values : array or Series\n",
    "        x values to predict from.\n",
    "    y_values : array or Series\n",
    "        y_values to predict, using intercept, slope from `c_s` and `x_values`.\n",
    "\n",
    "    Returns\n",
    "    -------\n",
    "    ss_error : float\n",
    "        Sum of the squared difference between predictions and `y_values`.\n",
    "    \"\"\"\n",
    "    # c_s is a list containing two elements, an intercept and a slope.\n",
    "    intercept, slope = c_s\n",
    "    # Values predicted from these x_values, using this intercept and slope.\n",
    "    predicted = intercept + x_values * slope\n",
    "    # Difference of prediction from the actual y values.\n",
    "    error = y_values - predicted\n",
    "    # Sum of squared error.\n",
    "    return np.sum(error ** 2)"
   ]
  },
  {
   "cell_type": "markdown",
   "id": "2c47496e",
   "metadata": {},
   "source": [
    "Now get the results from applying `minimize` to this function, and specifying\n",
    "the x and y values (`fare` and `survived_dummy`). These results will include,\n",
    "among other things, the intercept and slope pair which minimizes the sum of the\n",
    "squared error.\n",
    "\n",
    "*Hint*: Remember the [using minimize page](../mean-slopes/using_minimize).\n",
    "\n",
    "*Hint*: The first cell in this notebook should have imported the `minimize`\n",
    "function."
   ]
  },
  {
   "cell_type": "code",
   "execution_count": null,
   "id": "c3bbe6ca",
   "metadata": {},
   "outputs": [],
   "source": [
    "lin_reg_one = ...\n",
    "# Show the result object from minimize.\n",
    "# This should be the whole results object, including the `fun` and `x`\n",
    "# attributes.\n",
    "lin_reg_one"
   ]
  },
  {
   "cell_type": "markdown",
   "id": "cc8a16ab",
   "metadata": {},
   "source": [
    "### First pass intercept and slope\n",
    "\n",
    "We store the intercept and slope from `minimize` as separate variables:"
   ]
  },
  {
   "cell_type": "code",
   "execution_count": null,
   "id": "abdb4df5",
   "metadata": {},
   "outputs": [],
   "source": [
    "lin_reg_one_intercept, lin_reg_one_slope = lin_reg_one.x\n",
    "print('Intercept from minimize (linear regression) =', lin_reg_one_intercept)\n",
    "print('Slope from minimize (linear regression) =', lin_reg_one_slope)"
   ]
  },
  {
   "cell_type": "markdown",
   "id": "4a11d803",
   "metadata": {},
   "source": [
    "### First pass and Statsmodels\n",
    "\n",
    "Let's compare the intercept and slope from `minimize` to the intercept and\n",
    "slope we get from Statsmodels. Complete the code in the cell below to predict\n",
    "`survived` from `fare` using Statsmodels linear regression (check under `coef`\n",
    "on the model summary shown below the cell, and compare these to the\n",
    "intercept/slope from minimize):\n",
    "\n",
    "*Hint*: you may want to check the [Simple and multiple regression page](https://uob-ds.github.io/cfd2021/classification/single_multiple) for a refresher on how to do\n",
    "this.\n",
    "\n",
    "*Hint*: `smf.ols()` is one way of performing linear regression with\n",
    "Statsmodels; `ols` stands for Ordinary Least Squares."
   ]
  },
  {
   "cell_type": "code",
   "execution_count": null,
   "id": "ed9b28c8",
   "metadata": {},
   "outputs": [],
   "source": [
    "# The formula interface to Statsmodels\n",
    "import statsmodels.formula.api as smf\n",
    "\n",
    "# Specify the model\n",
    "mod = smf.ols(...)\n",
    "#- Fit the model\n",
    "mod_fit = ...\n",
    "# Show the model summary.\n",
    "mod_fit.summary()"
   ]
  },
  {
   "cell_type": "markdown",
   "id": "1fa34253",
   "metadata": {},
   "source": [
    "How do the slope and intercept from Statsmodels compare to the ones we got from\n",
    "`minimize` (below)."
   ]
  },
  {
   "cell_type": "code",
   "execution_count": null,
   "id": "3bd01d23",
   "metadata": {},
   "outputs": [],
   "source": [
    "# Run this cell to view the intercept/slope we got from minimize.\n",
    "print('Intercept from minimize (linear regression) =', lin_reg_one_intercept)\n",
    "print('Slope from minimize (linear regression) =', lin_reg_one_slope)"
   ]
  },
  {
   "cell_type": "markdown",
   "id": "cb46f918",
   "metadata": {},
   "source": [
    "### First predictions\n",
    "\n",
    "Recall that, when we use linear regression to predict probabilities, the predicted probability is calculated from:\n",
    "\n",
    "$\n",
    "\\text{predicted probability} = intercept + slope * \\text{fare}\n",
    "$\n",
    "\n",
    "Use the intercept and slope we got from `minimize` to calculate the predicted\n",
    "probability of survival. Store the result in a variable called\n",
    "`predictions_lin_reg_one`."
   ]
  },
  {
   "cell_type": "code",
   "execution_count": null,
   "id": "b342f409",
   "metadata": {},
   "outputs": [],
   "source": [
    "predictions_lin_reg_one = ...\n",
    "# Show the result\n",
    "predictions_lin_reg_one"
   ]
  },
  {
   "cell_type": "markdown",
   "id": "fa9c89d1",
   "metadata": {},
   "source": [
    "Now we plot these predictions against the original data:"
   ]
  },
  {
   "cell_type": "code",
   "execution_count": null,
   "id": "7c1f404d",
   "metadata": {},
   "outputs": [],
   "source": [
    "# The original x and y variables.\n",
    "titanic.plot.scatter('fare', 'survived_dummy')\n",
    "# Add linear regression predictions to the graph.\n",
    "plt.scatter(fare, predictions_lin_reg_one, color = 'gold');"
   ]
  },
  {
   "cell_type": "markdown",
   "id": "deae19ef",
   "metadata": {},
   "source": [
    "You should see from the graph that for a `fare` of around 500, our linear\n",
    "regression model predicts a probability of survival greater than 1.\n",
    "\n",
    "Let's see if logistic regression does a better job.\n"
   ]
  },
  {
   "cell_type": "markdown",
   "id": "414b0968",
   "metadata": {},
   "source": [
    "## Logistic Regression with one predictor"
   ]
  },
  {
   "cell_type": "markdown",
   "id": "b2bc5312",
   "metadata": {},
   "source": [
    "Before we begin, here is a brief recap of the difference between probability\n",
    "and odds ratios.   See the *probability and odds* section of the [logistic\n",
    "regression page](https://uob-ds.github.io/cfd2021/more-regression/logistic_regression) for\n",
    "background.\n",
    "\n",
    "The output of the cell below shows some of the values from `class` column of\n",
    "the `titanic` Dataframe. These values are stored in a variable called\n",
    "`some_class_data`:"
   ]
  },
  {
   "cell_type": "code",
   "execution_count": null,
   "id": "f7af6ebe",
   "metadata": {},
   "outputs": [],
   "source": [
    "# Some elements of the 'class' column in the titanic Dataframe\n",
    "some_class_data = titanic['class'].loc[100:109]\n",
    "some_class_data"
   ]
  },
  {
   "cell_type": "markdown",
   "id": "9dd16a3a",
   "metadata": {},
   "source": [
    "### Classy probability\n",
    "\n",
    "In the `some_class_data` series, what is the probability of a passenger being\n",
    "in `1st` class? \n",
    "\n",
    "Remember that probability is $\\frac{\\text{number of observations of interest}}{\\text{total number of observations}}$\n",
    "\n",
    "Calculate the probability of being `1st` class in the `some_class_data` series.\n",
    "Store the result in a variable called `prob_first`."
   ]
  },
  {
   "cell_type": "code",
   "execution_count": null,
   "id": "c4fe891d",
   "metadata": {},
   "outputs": [],
   "source": [
    "prob_first = ...\n",
    "# Show the result.\n",
    "prob_first"
   ]
  },
  {
   "cell_type": "markdown",
   "id": "feacc788",
   "metadata": {},
   "source": [
    "### Classy odds\n",
    "\n",
    "In the `some_class_data` series, what is the odds ratio of being `1st` class?\n",
    "\n",
    "Remember that if $p$ is the probability of the event of interest, the odds\n",
    "ratio of the event of interest is $\\frac{p}{1 - p}$\n",
    "\n",
    "Calculate the odds ratio of being `1st` class in the `some_class_data` series, store the result in a variable called `odds_first`:"
   ]
  },
  {
   "cell_type": "code",
   "execution_count": null,
   "id": "9ce04559",
   "metadata": {},
   "outputs": [],
   "source": [
    "odds_first = ...\n",
    "# Show the result.\n",
    "odds_first"
   ]
  },
  {
   "cell_type": "markdown",
   "id": "6f3ec9d3",
   "metadata": {},
   "source": [
    "Remember that logistic regression predicts the *log odds ratio* of the event of\n",
    "interest.\n",
    "\n",
    "To perform our logistic regression, we define the functions we need.  These\n",
    "functions from the [logistic regression page](https://uob-ds.github.io/cfd2021/more-regression/logistic_regression). Read over each line and make sure you\n",
    "understand what it is doing."
   ]
  },
  {
   "cell_type": "code",
   "execution_count": null,
   "id": "7c2e5d43",
   "metadata": {},
   "outputs": [],
   "source": [
    "# Functions for logistic regression\n",
    "\n",
    "def inv_logit(y):\n",
    "    \"\"\" Reverse logit transformation\n",
    "    \"\"\"\n",
    "    # Reverse the log operation.\n",
    "    odds_ratios = np.exp(y)\n",
    "    # Reverse odds ratios operation and return probabilities.\n",
    "    return odds_ratios / (odds_ratios + 1)\n",
    "\n",
    "\n",
    "def mll_logit_cost(intercept_and_slope, x, y):\n",
    "    \"\"\" Cost function for maximum log likelihood\n",
    "\n",
    "    Return minus of the log of the likelihood.\n",
    "    \"\"\"\n",
    "    intercept, slope = intercept_and_slope\n",
    "\n",
    "    # Make predictions for sigmoid.\n",
    "    predicted_log_odds = intercept + slope * x\n",
    "    pp_of_1 = inv_logit(predicted_log_odds)\n",
    "\n",
    "    # Calculate predicted probabilities of the actual labels.\n",
    "    pp_of_correct_label = y * pp_of_1 + (1 - y) * (1 - pp_of_1)\n",
    "\n",
    "    # Use logs to calculate log of the likelihood\n",
    "    log_likelihood = np.sum(np.log(pp_of_correct_label))\n",
    "\n",
    "    # Ask minimize to find maximum by adding minus sign.\n",
    "    return -log_likelihood"
   ]
  },
  {
   "cell_type": "markdown",
   "id": "48ea8fd2",
   "metadata": {},
   "source": [
    "### Logistic minimize\n",
    "\n",
    "Apply `minimize` to get the minimize result object.  The results include `x` —\n",
    "the intercept and slope pair that gives the smallest negative log likelihood,\n",
    "when we predict `survived_dummy` from `fare`. Store the results in a variable\n",
    "called `log_reg_one`:\n",
    "\n",
    "*Hint*: begin with a guessed intercept and guessed slope both around 0.1,\n",
    "otherwise the function may fail...\n",
    "\n",
    "*Hint*: remember you will need to specify your x and y values, in the call to `minimize`, as you did above."
   ]
  },
  {
   "cell_type": "code",
   "execution_count": null,
   "id": "53dc8f68",
   "metadata": {},
   "outputs": [],
   "source": [
    "log_reg_one = ...\n",
    "log_reg_one"
   ]
  },
  {
   "cell_type": "markdown",
   "id": "d7700150",
   "metadata": {},
   "source": [
    "As above, we store the intercept and slope as separate variables. Call the\n",
    "intercept `log_reg_one_intercept` and call the slope `log_reg_one_slope`:"
   ]
  },
  {
   "cell_type": "code",
   "execution_count": null,
   "id": "ac129d21",
   "metadata": {},
   "outputs": [],
   "source": [
    "log_reg_one_intercept, log_reg_one_slope = log_reg_one.x\n",
    "print('Intercept from minimize (logistic regression) =', log_reg_one_intercept)\n",
    "print('Slope from minimize (logistic regression) =', log_reg_one_slope)"
   ]
  },
  {
   "cell_type": "markdown",
   "id": "f73d1e7b",
   "metadata": {},
   "source": [
    "### Logistics and Statsmodels\n",
    "\n",
    "Let us compare these new intercept and slope values to those we get from\n",
    "Statsmodels.\n",
    "\n",
    "Perform a logistic regression, using `smf.logit()`, to predict `survived_dummy` from `fare`:"
   ]
  },
  {
   "cell_type": "code",
   "execution_count": null,
   "id": "44887ece",
   "metadata": {},
   "outputs": [],
   "source": [
    "log_mod = ...\n",
    "log_mod_fit = ...\n",
    "# Show the summary of the model fit.\n",
    "log_mod_fit.summary()"
   ]
  },
  {
   "cell_type": "markdown",
   "id": "a73eec1e",
   "metadata": {},
   "source": [
    "How do the intercept and slope from Statsmodels compare to the ones we got from\n",
    "`minimize`?"
   ]
  },
  {
   "cell_type": "code",
   "execution_count": null,
   "id": "8717dd93",
   "metadata": {},
   "outputs": [],
   "source": [
    "# run this cell to show the intercept and slope we got from minimize\n",
    "print('Intercept from minimize (logistic regression) =', log_reg_one_intercept)\n",
    "print('Slope from minimize (logistic regression) =', log_reg_one_slope)"
   ]
  },
  {
   "cell_type": "markdown",
   "id": "3b9fa75f",
   "metadata": {},
   "source": [
    "### Log-odds predictions\n",
    "\n",
    "We can use the intercept and slope from logistic regression to predict the log\n",
    "odds ratio of survival, using:\n",
    "\n",
    "$ \\text{predicted log odds ratio} = intercept + slope * \\text{fare} $\n",
    "\n",
    "Calculate the predicted log odds ratio of survival for each passenger. Store\n",
    "these predictions in a variable called `predictions_log_reg_one`:"
   ]
  },
  {
   "cell_type": "code",
   "execution_count": null,
   "id": "65db255d",
   "metadata": {},
   "outputs": [],
   "source": [
    "predictions_log_reg_one = ...\n",
    "# Show the results.\n",
    "predictions_log_reg_one"
   ]
  },
  {
   "cell_type": "markdown",
   "id": "7178f9a2",
   "metadata": {},
   "source": [
    "### Probability predictions\n",
    "\n",
    "The predicted log odds ratios are hard to interpret. Convert them to\n",
    "probabilities, and store the probabilities in the ` predictions_log_reg_one`\n",
    "variable.\n",
    "\n",
    "*Hint* : you already have the functions you need to do this."
   ]
  },
  {
   "cell_type": "code",
   "execution_count": null,
   "id": "08d0fcf1",
   "metadata": {},
   "outputs": [],
   "source": [
    "predictions_log_reg_one = ...\n",
    "# Show the results.\n",
    "predictions_log_reg_one"
   ]
  },
  {
   "cell_type": "markdown",
   "id": "f1b4cea1",
   "metadata": {},
   "source": [
    "Let's plot the probabilities, alongside the original data.\n",
    "\n",
    "We create another scatterplot with `fare` on the x axis and `survived_dummy` on\n",
    "the y axis."
   ]
  },
  {
   "cell_type": "code",
   "execution_count": null,
   "id": "090d969d",
   "metadata": {},
   "outputs": [],
   "source": [
    "# Plot the logistic reg probabilities\n",
    "titanic.plot.scatter('fare', 'survived_dummy')\n",
    "plt.scatter(fare, predictions_log_reg_one, color='gold');"
   ]
  },
  {
   "cell_type": "markdown",
   "id": "e676d906",
   "metadata": {},
   "source": [
    "Do you think this model gives a better fit than the linear regression model?\n",
    "Write your answer in the cell below:"
   ]
  },
  {
   "cell_type": "markdown",
   "id": "bbd6a618",
   "metadata": {},
   "source": [
    "*Edit this cell with your answer ...*"
   ]
  }
 ],
 "metadata": {
  "jupytext": {
   "formats": "ipynb,Rmd",
   "notebook_metadata_filter": "all,-language_info",
   "split_at_heading": true,
   "text_representation": {
    "extension": ".Rmd",
    "format_name": "rmarkdown",
    "format_version": "1.2",
    "jupytext_version": "1.10.3"
   }
  },
  "kernelspec": {
   "display_name": "Python 3 (ipykernel)",
   "language": "python",
   "name": "python3"
  }
 },
 "nbformat": 4,
 "nbformat_minor": 5
}
